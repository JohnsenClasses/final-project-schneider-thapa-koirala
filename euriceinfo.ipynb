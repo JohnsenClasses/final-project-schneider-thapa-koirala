{
 "cells": [
  {
   "cell_type": "code",
   "execution_count": 8,
   "metadata": {},
   "outputs": [],
   "source": [
    "import requests\n",
    "import pandas as pd\n",
    "import json\n",
    "import datetime as dt"
   ]
  },
  {
   "cell_type": "code",
   "execution_count": 4,
   "metadata": {},
   "outputs": [],
   "source": [
    "#requesting data for the price of rice in EU member states\n",
    "riceprice=requests.get(\"https://www.ec.europa.eu/agrifood/api/rice/prices?\")"
   ]
  },
  {
   "cell_type": "code",
   "execution_count": 34,
   "metadata": {},
   "outputs": [
    {
     "name": "stdout",
     "output_type": "stream",
     "text": [
      "  memberStateCode memberStateName   beginDate     endDate  weekNumber  \\\n",
      "0              IT           Italy  24/01/2005  30/01/2005          22   \n",
      "1              IT           Italy  27/12/2004  02/01/2005          18   \n",
      "2              IT           Italy  26/05/2008  01/06/2008          39   \n",
      "3              IT           Italy  05/05/2008  11/05/2008          36   \n",
      "4              IT           Italy  04/08/2008  10/08/2008          49   \n",
      "\n",
      "      price   unit marketingYear   stage    type     variety  \n",
      "0   €360.00  Tonne     2004/2005  Milled  Indica  Thaibonnet  \n",
      "1   €360.00  Tonne     2004/2005  Milled  Indica  Thaibonnet  \n",
      "2  €1000.00  Tonne     2007/2008  Milled  Indica  Thaibonnet  \n",
      "3   €820.00  Tonne     2007/2008  Milled  Indica  Thaibonnet  \n",
      "4  €1040.00  Tonne     2007/2008  Milled  Indica  Thaibonnet  \n"
     ]
    }
   ],
   "source": [
    "# Print the result of the request as a python dictionary\n",
    "euriceprice=riceprice.json()\n",
    "print(df_riceprice.head())\n"
   ]
  },
  {
   "cell_type": "code",
   "execution_count": 39,
   "metadata": {},
   "outputs": [
    {
     "ename": "ValueError",
     "evalue": "time data '24/01/2005' does not match format '%d%m%y' (match)",
     "output_type": "error",
     "traceback": [
      "\u001b[1;31m---------------------------------------------------------------------------\u001b[0m",
      "\u001b[1;31mTypeError\u001b[0m                                 Traceback (most recent call last)",
      "File \u001b[1;32m~\\miniconda3\\envs\\INFO8000sp22\\lib\\site-packages\\pandas\\core\\tools\\datetimes.py:510\u001b[0m, in \u001b[0;36m_to_datetime_with_format\u001b[1;34m(arg, orig_arg, name, tz, fmt, exact, errors, infer_datetime_format)\u001b[0m\n\u001b[0;32m    <a href='file:///c%3A/Users/Milner/miniconda3/envs/INFO8000sp22/lib/site-packages/pandas/core/tools/datetimes.py?line=508'>509</a>\u001b[0m \u001b[39mtry\u001b[39;00m:\n\u001b[1;32m--> <a href='file:///c%3A/Users/Milner/miniconda3/envs/INFO8000sp22/lib/site-packages/pandas/core/tools/datetimes.py?line=509'>510</a>\u001b[0m     values, tz \u001b[39m=\u001b[39m conversion\u001b[39m.\u001b[39;49mdatetime_to_datetime64(arg)\n\u001b[0;32m    <a href='file:///c%3A/Users/Milner/miniconda3/envs/INFO8000sp22/lib/site-packages/pandas/core/tools/datetimes.py?line=510'>511</a>\u001b[0m     dta \u001b[39m=\u001b[39m DatetimeArray(values, dtype\u001b[39m=\u001b[39mtz_to_dtype(tz))\n",
      "File \u001b[1;32m~\\miniconda3\\envs\\INFO8000sp22\\lib\\site-packages\\pandas\\_libs\\tslibs\\conversion.pyx:360\u001b[0m, in \u001b[0;36mpandas._libs.tslibs.conversion.datetime_to_datetime64\u001b[1;34m()\u001b[0m\n",
      "\u001b[1;31mTypeError\u001b[0m: Unrecognized value type: <class 'str'>",
      "\nDuring handling of the above exception, another exception occurred:\n",
      "\u001b[1;31mValueError\u001b[0m                                Traceback (most recent call last)",
      "\u001b[1;32mc:\\Users\\Milner\\INFO8000assignments\\Finalproject\\final-project-schneider-thapa-koirala\\euriceinfo.ipynb Cell 4'\u001b[0m in \u001b[0;36m<cell line: 2>\u001b[1;34m()\u001b[0m\n\u001b[0;32m      <a href='vscode-notebook-cell:/c%3A/Users/Milner/INFO8000assignments/Finalproject/final-project-schneider-thapa-koirala/euriceinfo.ipynb#ch0000004?line=0'>1</a>\u001b[0m df_riceprice\u001b[39m=\u001b[39mpd\u001b[39m.\u001b[39mDataFrame(euriceprice)\n\u001b[1;32m----> <a href='vscode-notebook-cell:/c%3A/Users/Milner/INFO8000assignments/Finalproject/final-project-schneider-thapa-koirala/euriceinfo.ipynb#ch0000004?line=1'>2</a>\u001b[0m df_riceprice[\u001b[39m\"\u001b[39m\u001b[39mbeginDate\u001b[39m\u001b[39m\"\u001b[39m]\u001b[39m=\u001b[39mpd\u001b[39m.\u001b[39;49mto_datetime(df_riceprice[\u001b[39m\"\u001b[39;49m\u001b[39mbeginDate\u001b[39;49m\u001b[39m\"\u001b[39;49m], \u001b[39mformat\u001b[39;49m\u001b[39m=\u001b[39;49m\u001b[39m'\u001b[39;49m\u001b[39m%d\u001b[39;49;00m\u001b[39m%\u001b[39;49m\u001b[39mm\u001b[39;49m\u001b[39m%\u001b[39;49m\u001b[39my\u001b[39;49m\u001b[39m'\u001b[39;49m)\n",
      "File \u001b[1;32m~\\miniconda3\\envs\\INFO8000sp22\\lib\\site-packages\\pandas\\core\\tools\\datetimes.py:1051\u001b[0m, in \u001b[0;36mto_datetime\u001b[1;34m(arg, errors, dayfirst, yearfirst, utc, format, exact, unit, infer_datetime_format, origin, cache)\u001b[0m\n\u001b[0;32m   <a href='file:///c%3A/Users/Milner/miniconda3/envs/INFO8000sp22/lib/site-packages/pandas/core/tools/datetimes.py?line=1048'>1049</a>\u001b[0m         result \u001b[39m=\u001b[39m arg\u001b[39m.\u001b[39mmap(cache_array)\n\u001b[0;32m   <a href='file:///c%3A/Users/Milner/miniconda3/envs/INFO8000sp22/lib/site-packages/pandas/core/tools/datetimes.py?line=1049'>1050</a>\u001b[0m     \u001b[39melse\u001b[39;00m:\n\u001b[1;32m-> <a href='file:///c%3A/Users/Milner/miniconda3/envs/INFO8000sp22/lib/site-packages/pandas/core/tools/datetimes.py?line=1050'>1051</a>\u001b[0m         values \u001b[39m=\u001b[39m convert_listlike(arg\u001b[39m.\u001b[39;49m_values, \u001b[39mformat\u001b[39;49m)\n\u001b[0;32m   <a href='file:///c%3A/Users/Milner/miniconda3/envs/INFO8000sp22/lib/site-packages/pandas/core/tools/datetimes.py?line=1051'>1052</a>\u001b[0m         result \u001b[39m=\u001b[39m arg\u001b[39m.\u001b[39m_constructor(values, index\u001b[39m=\u001b[39marg\u001b[39m.\u001b[39mindex, name\u001b[39m=\u001b[39marg\u001b[39m.\u001b[39mname)\n\u001b[0;32m   <a href='file:///c%3A/Users/Milner/miniconda3/envs/INFO8000sp22/lib/site-packages/pandas/core/tools/datetimes.py?line=1052'>1053</a>\u001b[0m \u001b[39melif\u001b[39;00m \u001b[39misinstance\u001b[39m(arg, (ABCDataFrame, abc\u001b[39m.\u001b[39mMutableMapping)):\n",
      "File \u001b[1;32m~\\miniconda3\\envs\\INFO8000sp22\\lib\\site-packages\\pandas\\core\\tools\\datetimes.py:394\u001b[0m, in \u001b[0;36m_convert_listlike_datetimes\u001b[1;34m(arg, format, name, tz, unit, errors, infer_datetime_format, dayfirst, yearfirst, exact)\u001b[0m\n\u001b[0;32m    <a href='file:///c%3A/Users/Milner/miniconda3/envs/INFO8000sp22/lib/site-packages/pandas/core/tools/datetimes.py?line=390'>391</a>\u001b[0m         \u001b[39mformat\u001b[39m \u001b[39m=\u001b[39m \u001b[39mNone\u001b[39;00m\n\u001b[0;32m    <a href='file:///c%3A/Users/Milner/miniconda3/envs/INFO8000sp22/lib/site-packages/pandas/core/tools/datetimes.py?line=392'>393</a>\u001b[0m \u001b[39mif\u001b[39;00m \u001b[39mformat\u001b[39m \u001b[39mis\u001b[39;00m \u001b[39mnot\u001b[39;00m \u001b[39mNone\u001b[39;00m:\n\u001b[1;32m--> <a href='file:///c%3A/Users/Milner/miniconda3/envs/INFO8000sp22/lib/site-packages/pandas/core/tools/datetimes.py?line=393'>394</a>\u001b[0m     res \u001b[39m=\u001b[39m _to_datetime_with_format(\n\u001b[0;32m    <a href='file:///c%3A/Users/Milner/miniconda3/envs/INFO8000sp22/lib/site-packages/pandas/core/tools/datetimes.py?line=394'>395</a>\u001b[0m         arg, orig_arg, name, tz, \u001b[39mformat\u001b[39;49m, exact, errors, infer_datetime_format\n\u001b[0;32m    <a href='file:///c%3A/Users/Milner/miniconda3/envs/INFO8000sp22/lib/site-packages/pandas/core/tools/datetimes.py?line=395'>396</a>\u001b[0m     )\n\u001b[0;32m    <a href='file:///c%3A/Users/Milner/miniconda3/envs/INFO8000sp22/lib/site-packages/pandas/core/tools/datetimes.py?line=396'>397</a>\u001b[0m     \u001b[39mif\u001b[39;00m res \u001b[39mis\u001b[39;00m \u001b[39mnot\u001b[39;00m \u001b[39mNone\u001b[39;00m:\n\u001b[0;32m    <a href='file:///c%3A/Users/Milner/miniconda3/envs/INFO8000sp22/lib/site-packages/pandas/core/tools/datetimes.py?line=397'>398</a>\u001b[0m         \u001b[39mreturn\u001b[39;00m res\n",
      "File \u001b[1;32m~\\miniconda3\\envs\\INFO8000sp22\\lib\\site-packages\\pandas\\core\\tools\\datetimes.py:514\u001b[0m, in \u001b[0;36m_to_datetime_with_format\u001b[1;34m(arg, orig_arg, name, tz, fmt, exact, errors, infer_datetime_format)\u001b[0m\n\u001b[0;32m    <a href='file:///c%3A/Users/Milner/miniconda3/envs/INFO8000sp22/lib/site-packages/pandas/core/tools/datetimes.py?line=511'>512</a>\u001b[0m     \u001b[39mreturn\u001b[39;00m DatetimeIndex\u001b[39m.\u001b[39m_simple_new(dta, name\u001b[39m=\u001b[39mname)\n\u001b[0;32m    <a href='file:///c%3A/Users/Milner/miniconda3/envs/INFO8000sp22/lib/site-packages/pandas/core/tools/datetimes.py?line=512'>513</a>\u001b[0m \u001b[39mexcept\u001b[39;00m (\u001b[39mValueError\u001b[39;00m, \u001b[39mTypeError\u001b[39;00m):\n\u001b[1;32m--> <a href='file:///c%3A/Users/Milner/miniconda3/envs/INFO8000sp22/lib/site-packages/pandas/core/tools/datetimes.py?line=513'>514</a>\u001b[0m     \u001b[39mraise\u001b[39;00m err\n",
      "File \u001b[1;32m~\\miniconda3\\envs\\INFO8000sp22\\lib\\site-packages\\pandas\\core\\tools\\datetimes.py:501\u001b[0m, in \u001b[0;36m_to_datetime_with_format\u001b[1;34m(arg, orig_arg, name, tz, fmt, exact, errors, infer_datetime_format)\u001b[0m\n\u001b[0;32m    <a href='file:///c%3A/Users/Milner/miniconda3/envs/INFO8000sp22/lib/site-packages/pandas/core/tools/datetimes.py?line=497'>498</a>\u001b[0m             \u001b[39mreturn\u001b[39;00m _box_as_indexlike(result, utc\u001b[39m=\u001b[39mutc, name\u001b[39m=\u001b[39mname)\n\u001b[0;32m    <a href='file:///c%3A/Users/Milner/miniconda3/envs/INFO8000sp22/lib/site-packages/pandas/core/tools/datetimes.py?line=499'>500</a>\u001b[0m     \u001b[39m# fallback\u001b[39;00m\n\u001b[1;32m--> <a href='file:///c%3A/Users/Milner/miniconda3/envs/INFO8000sp22/lib/site-packages/pandas/core/tools/datetimes.py?line=500'>501</a>\u001b[0m     res \u001b[39m=\u001b[39m _array_strptime_with_fallback(\n\u001b[0;32m    <a href='file:///c%3A/Users/Milner/miniconda3/envs/INFO8000sp22/lib/site-packages/pandas/core/tools/datetimes.py?line=501'>502</a>\u001b[0m         arg, name, tz, fmt, exact, errors, infer_datetime_format\n\u001b[0;32m    <a href='file:///c%3A/Users/Milner/miniconda3/envs/INFO8000sp22/lib/site-packages/pandas/core/tools/datetimes.py?line=502'>503</a>\u001b[0m     )\n\u001b[0;32m    <a href='file:///c%3A/Users/Milner/miniconda3/envs/INFO8000sp22/lib/site-packages/pandas/core/tools/datetimes.py?line=503'>504</a>\u001b[0m     \u001b[39mreturn\u001b[39;00m res\n\u001b[0;32m    <a href='file:///c%3A/Users/Milner/miniconda3/envs/INFO8000sp22/lib/site-packages/pandas/core/tools/datetimes.py?line=505'>506</a>\u001b[0m \u001b[39mexcept\u001b[39;00m \u001b[39mValueError\u001b[39;00m \u001b[39mas\u001b[39;00m err:\n\u001b[0;32m    <a href='file:///c%3A/Users/Milner/miniconda3/envs/INFO8000sp22/lib/site-packages/pandas/core/tools/datetimes.py?line=506'>507</a>\u001b[0m     \u001b[39m# Fallback to try to convert datetime objects if timezone-aware\u001b[39;00m\n\u001b[0;32m    <a href='file:///c%3A/Users/Milner/miniconda3/envs/INFO8000sp22/lib/site-packages/pandas/core/tools/datetimes.py?line=507'>508</a>\u001b[0m     \u001b[39m#  datetime objects are found without passing `utc=True`\u001b[39;00m\n",
      "File \u001b[1;32m~\\miniconda3\\envs\\INFO8000sp22\\lib\\site-packages\\pandas\\core\\tools\\datetimes.py:437\u001b[0m, in \u001b[0;36m_array_strptime_with_fallback\u001b[1;34m(arg, name, tz, fmt, exact, errors, infer_datetime_format)\u001b[0m\n\u001b[0;32m    <a href='file:///c%3A/Users/Milner/miniconda3/envs/INFO8000sp22/lib/site-packages/pandas/core/tools/datetimes.py?line=433'>434</a>\u001b[0m utc \u001b[39m=\u001b[39m tz \u001b[39m==\u001b[39m \u001b[39m\"\u001b[39m\u001b[39mutc\u001b[39m\u001b[39m\"\u001b[39m\n\u001b[0;32m    <a href='file:///c%3A/Users/Milner/miniconda3/envs/INFO8000sp22/lib/site-packages/pandas/core/tools/datetimes.py?line=435'>436</a>\u001b[0m \u001b[39mtry\u001b[39;00m:\n\u001b[1;32m--> <a href='file:///c%3A/Users/Milner/miniconda3/envs/INFO8000sp22/lib/site-packages/pandas/core/tools/datetimes.py?line=436'>437</a>\u001b[0m     result, timezones \u001b[39m=\u001b[39m array_strptime(arg, fmt, exact\u001b[39m=\u001b[39;49mexact, errors\u001b[39m=\u001b[39;49merrors)\n\u001b[0;32m    <a href='file:///c%3A/Users/Milner/miniconda3/envs/INFO8000sp22/lib/site-packages/pandas/core/tools/datetimes.py?line=437'>438</a>\u001b[0m     \u001b[39mif\u001b[39;00m \u001b[39m\"\u001b[39m\u001b[39m%\u001b[39m\u001b[39mZ\u001b[39m\u001b[39m\"\u001b[39m \u001b[39min\u001b[39;00m fmt \u001b[39mor\u001b[39;00m \u001b[39m\"\u001b[39m\u001b[39m%\u001b[39m\u001b[39mz\u001b[39m\u001b[39m\"\u001b[39m \u001b[39min\u001b[39;00m fmt:\n\u001b[0;32m    <a href='file:///c%3A/Users/Milner/miniconda3/envs/INFO8000sp22/lib/site-packages/pandas/core/tools/datetimes.py?line=438'>439</a>\u001b[0m         \u001b[39mreturn\u001b[39;00m _return_parsed_timezone_results(result, timezones, tz, name)\n",
      "File \u001b[1;32m~\\miniconda3\\envs\\INFO8000sp22\\lib\\site-packages\\pandas\\_libs\\tslibs\\strptime.pyx:150\u001b[0m, in \u001b[0;36mpandas._libs.tslibs.strptime.array_strptime\u001b[1;34m()\u001b[0m\n",
      "\u001b[1;31mValueError\u001b[0m: time data '24/01/2005' does not match format '%d%m%y' (match)"
     ]
    }
   ],
   "source": [
    "df_riceprice=pd.DataFrame(euriceprice)\n",
    "df_riceprice[\"beginDate\"]=pd.to_datetime(df_riceprice[\"beginDate\"], format='%d%m%y');\n",
    "#df_riceprice[\"endDate\"]=pd.to_datetime(df_riceprice[\"endDate\"], infer_datetime_format=True);\n"
   ]
  },
  {
   "cell_type": "code",
   "execution_count": 32,
   "metadata": {},
   "outputs": [],
   "source": [
    "#df_riceprice.set_index(\"beginDate\", inplace=True)\n",
    "#df_riceprice[\"2020-01-01\":\"2021-01-01\"]"
   ]
  }
 ],
 "metadata": {
  "interpreter": {
   "hash": "31f6f25e27499dc3aef6dab60b41f81294aa13eb81803a76af6215f19d8289c8"
  },
  "kernelspec": {
   "display_name": "Python 3.10.4 ('INFO8000sp22')",
   "language": "python",
   "name": "python3"
  },
  "language_info": {
   "codemirror_mode": {
    "name": "ipython",
    "version": 3
   },
   "file_extension": ".py",
   "mimetype": "text/x-python",
   "name": "python",
   "nbconvert_exporter": "python",
   "pygments_lexer": "ipython3",
   "version": "3.10.4"
  },
  "orig_nbformat": 4
 },
 "nbformat": 4,
 "nbformat_minor": 2
}
