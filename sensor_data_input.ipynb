{
 "cells": [
  {
   "cell_type": "code",
   "execution_count": 10,
   "metadata": {},
   "outputs": [],
   "source": [
    "import requests\n",
    "import json\n",
    "import serial.tools.list_ports  #library in order to read serial ports hosted from arduino board\n",
    "localhost = \"http://localhost:8000\""
   ]
  },
  {
   "cell_type": "code",
   "execution_count": 24,
   "metadata": {},
   "outputs": [
    {
     "ename": "KeyboardInterrupt",
     "evalue": "",
     "output_type": "error",
     "traceback": [
      "\u001b[1;31m---------------------------------------------------------------------------\u001b[0m",
      "\u001b[1;31mKeyboardInterrupt\u001b[0m                         Traceback (most recent call last)",
      "\u001b[1;32mc:\\Users\\thapa\\INFO8000\\gitclone\\final-project-schneider-thapa-koirala\\sensor_data_input.ipynb Cell 2'\u001b[0m in \u001b[0;36m<cell line: 5>\u001b[1;34m()\u001b[0m\n\u001b[0;32m      <a href='vscode-notebook-cell:/c%3A/Users/thapa/INFO8000/gitclone/final-project-schneider-thapa-koirala/sensor_data_input.ipynb#ch0000003?line=3'>4</a>\u001b[0m serialInst\u001b[39m.\u001b[39mopen()\n\u001b[0;32m      <a href='vscode-notebook-cell:/c%3A/Users/thapa/INFO8000/gitclone/final-project-schneider-thapa-koirala/sensor_data_input.ipynb#ch0000003?line=4'>5</a>\u001b[0m \u001b[39mwhile\u001b[39;00m \u001b[39mTrue\u001b[39;00m:\n\u001b[1;32m----> <a href='vscode-notebook-cell:/c%3A/Users/thapa/INFO8000/gitclone/final-project-schneider-thapa-koirala/sensor_data_input.ipynb#ch0000003?line=5'>6</a>\u001b[0m     \u001b[39mif\u001b[39;00m serialInst\u001b[39m.\u001b[39;49min_waiting:\n\u001b[0;32m      <a href='vscode-notebook-cell:/c%3A/Users/thapa/INFO8000/gitclone/final-project-schneider-thapa-koirala/sensor_data_input.ipynb#ch0000003?line=6'>7</a>\u001b[0m         packet \u001b[39m=\u001b[39m serialInst\u001b[39m.\u001b[39mreadline()\n\u001b[0;32m      <a href='vscode-notebook-cell:/c%3A/Users/thapa/INFO8000/gitclone/final-project-schneider-thapa-koirala/sensor_data_input.ipynb#ch0000003?line=7'>8</a>\u001b[0m         sens\u001b[39m=\u001b[39mpacket\u001b[39m.\u001b[39mdecode(\u001b[39m'\u001b[39m\u001b[39mutf\u001b[39m\u001b[39m'\u001b[39m)\n",
      "File \u001b[1;32m~\\.conda\\envs\\web-api\\lib\\site-packages\\serial\\serialwin32.py:258\u001b[0m, in \u001b[0;36mSerial.in_waiting\u001b[1;34m(self)\u001b[0m\n\u001b[0;32m    <a href='file:///c%3A/Users/thapa/.conda/envs/web-api/lib/site-packages/serial/serialwin32.py?line=255'>256</a>\u001b[0m flags \u001b[39m=\u001b[39m win32\u001b[39m.\u001b[39mDWORD()\n\u001b[0;32m    <a href='file:///c%3A/Users/thapa/.conda/envs/web-api/lib/site-packages/serial/serialwin32.py?line=256'>257</a>\u001b[0m comstat \u001b[39m=\u001b[39m win32\u001b[39m.\u001b[39mCOMSTAT()\n\u001b[1;32m--> <a href='file:///c%3A/Users/thapa/.conda/envs/web-api/lib/site-packages/serial/serialwin32.py?line=257'>258</a>\u001b[0m \u001b[39mif\u001b[39;00m \u001b[39mnot\u001b[39;00m win32\u001b[39m.\u001b[39;49mClearCommError(\u001b[39mself\u001b[39;49m\u001b[39m.\u001b[39;49m_port_handle, ctypes\u001b[39m.\u001b[39;49mbyref(flags), ctypes\u001b[39m.\u001b[39;49mbyref(comstat)):\n\u001b[0;32m    <a href='file:///c%3A/Users/thapa/.conda/envs/web-api/lib/site-packages/serial/serialwin32.py?line=258'>259</a>\u001b[0m     \u001b[39mraise\u001b[39;00m SerialException(\u001b[39m\"\u001b[39m\u001b[39mClearCommError failed (\u001b[39m\u001b[39m{!r}\u001b[39;00m\u001b[39m)\u001b[39m\u001b[39m\"\u001b[39m\u001b[39m.\u001b[39mformat(ctypes\u001b[39m.\u001b[39mWinError()))\n\u001b[0;32m    <a href='file:///c%3A/Users/thapa/.conda/envs/web-api/lib/site-packages/serial/serialwin32.py?line=259'>260</a>\u001b[0m \u001b[39mreturn\u001b[39;00m comstat\u001b[39m.\u001b[39mcbInQue\n",
      "\u001b[1;31mKeyboardInterrupt\u001b[0m: "
     ]
    }
   ],
   "source": [
    "serialObj = serial.Serial()\n",
    "serialObj.baudrate = 9600\n",
    "serialObj.port=\"COM5\" #port\n",
    "serialObj.open()\n",
    "while True:\n",
    "    if serialObj.in_waiting:\n",
    "        packet = serialObj.readline()\n",
    "        serial_data=packet.decode('utf') #decoding into utf\n",
    "        data = serial_data.split() #spliting a line of data into individual readings\n",
    "        sensdata={'Temperature_1': float(data[0]), 'Humidity_1': float(data[1]), 'Temperature_2': float(data[2]), 'Humidity_2': float(data[3])}\n",
    "        r = requests.put(f'{localhost}/sensor_data',data=json.dumps(sensdata))"
   ]
  }
 ],
 "metadata": {
  "interpreter": {
   "hash": "07c1298a8ca0af8086a0bfda5c939e8bcb18ffcdb8e7d8e5cee5db29311107bd"
  },
  "kernelspec": {
   "display_name": "Python 3.10.4 ('web-api')",
   "language": "python",
   "name": "python3"
  },
  "language_info": {
   "codemirror_mode": {
    "name": "ipython",
    "version": 3
   },
   "file_extension": ".py",
   "mimetype": "text/x-python",
   "name": "python",
   "nbconvert_exporter": "python",
   "pygments_lexer": "ipython3",
   "version": "3.10.4"
  },
  "orig_nbformat": 4
 },
 "nbformat": 4,
 "nbformat_minor": 2
}
