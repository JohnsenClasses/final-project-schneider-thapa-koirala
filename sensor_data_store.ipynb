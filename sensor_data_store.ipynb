{
 "cells": [
  {
   "cell_type": "code",
   "execution_count": 1,
   "metadata": {},
   "outputs": [],
   "source": [
    "import requests\n",
    "import json\n",
    "import serial.tools.list_ports  #library in order to read serial ports hosted from arduino board"
   ]
  },
  {
   "cell_type": "code",
   "execution_count": 2,
   "metadata": {},
   "outputs": [],
   "source": [
    "serialObj = serial.Serial()\n",
    "serialObj.baudrate = 9600\n",
    "serialObj.port=\"COM5\" #port\n",
    "serialObj.open()\n",
    "try:\n",
    "    while True:\n",
    "        if serialObj.in_waiting:\n",
    "            packet = serialObj.readline()\n",
    "            serial_data=packet.decode('utf') #decoding into utf\n",
    "            data = serial_data.split() #spliting a line of data into individual readings\n",
    "            sensdata1={'Latitude':float(data[0]),'Longitude':float(data[1]),'Temperature': float(data[2]), 'Humidity': float(data[3])}\n",
    "            sensdata2={'Latitude':float(data[4]),'Longitude':float(data[5]),'Temperature': float(data[6]), 'Humidity': float(data[7])}\n",
    "            r1 = requests.put('https://getweatherinfo.ga/wAPI/sensor_data',data=json.dumps(sensdata1))\n",
    "            r2 = requests.put('https://getweatherinfo.ga/wAPI/sensor_data',data=json.dumps(sensdata2))\n",
    "except:\n",
    "    serialObj.close()\n"
   ]
  }
 ],
 "metadata": {
  "interpreter": {
   "hash": "810d01a92fa6d65a342b4944053e87a2e8b488969b518accec63a3385d320bd1"
  },
  "kernelspec": {
   "display_name": "Python 3.10.4 ('web-api')",
   "language": "python",
   "name": "python3"
  },
  "language_info": {
   "codemirror_mode": {
    "name": "ipython",
    "version": 3
   },
   "file_extension": ".py",
   "mimetype": "text/x-python",
   "name": "python",
   "nbconvert_exporter": "python",
   "pygments_lexer": "ipython3",
   "version": "3.10.4"
  },
  "orig_nbformat": 4
 },
 "nbformat": 4,
 "nbformat_minor": 2
}
