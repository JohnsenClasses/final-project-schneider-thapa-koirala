{
 "cells": [
  {
   "cell_type": "code",
   "execution_count": null,
   "metadata": {},
   "outputs": [],
   "source": [
    "\n",
    "\n"
   ]
  },
  {
   "cell_type": "code",
   "execution_count": null,
   "metadata": {},
   "outputs": [],
   "source": [
    "#Data courtesy: (https://knoema.com/atlas/)\n",
    "# Countries: 'Spain' 'Italy' 'Greece' 'Portugal' 'Romania' 'Bulgaria' 'France'"
   ]
  },
  {
   "cell_type": "code",
   "execution_count": null,
   "metadata": {},
   "outputs": [],
   "source": []
  },
  {
   "cell_type": "code",
   "execution_count": null,
   "metadata": {},
   "outputs": [],
   "source": [
    "world = gpd.read_file(gpd.datasets.get_path('naturalearth_lowres'))\n",
    "world.query(\"continent=='Europe'\").query(f\"name=={'Norway','Portugal','Italy','Germany','Poland'}\").plot(color='white',edgecolor='black',figsize=(20,30)), \n",
    "figsize = (15,20)"
   ]
  },
  {
   "cell_type": "code",
   "execution_count": null,
   "metadata": {},
   "outputs": [],
   "source": [
    "import pandas as pd\n",
    "import geopandas as gpd\n",
    "import matplotlib.pyplot as plt\n",
    "\n",
    "world = gpd.read_file(gpd.datasets.get_path('naturalearth_lowres'))\n",
    "\n",
    "#data = pd.read_csv(\"Repair_yards_africa.csv\")\n",
    "\n",
    "base = world[world.continent == 'Europe'].plot(color='white', edgecolor='black')\n",
    "\n",
    "#data['Coordinates'] = list(zip(data.lon, data.lat))\n",
    "#data['Coordinates'] = data['Coordinates'].apply(Point)\n",
    "#geodata = gpd.GeoDataFrame(data, geometry='Coordinates')\n",
    "#geodata.plot(ax=base, color='red', markersize=11)\n",
    "plt.ylabel('Lattitude')\n",
    "plt.xlabel('Longitude')"
   ]
  }
 ],
 "metadata": {
  "language_info": {
   "name": "python"
  },
  "orig_nbformat": 4
 },
 "nbformat": 4,
 "nbformat_minor": 2
}
